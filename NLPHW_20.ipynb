{
 "cells": [
  {
   "cell_type": "markdown",
   "id": "91bbb039",
   "metadata": {},
   "source": [
    "## NLP_HW_20"
   ]
  },
  {
   "cell_type": "code",
   "execution_count": 2,
   "id": "2456c6f6",
   "metadata": {},
   "outputs": [],
   "source": [
    "import re\n",
    "import nltk\n",
    "from nltk.tokenize import regexp_tokenize\n",
    "from nltk.tokenize import word_tokenize\n",
    "from nltk.tokenize import sent_tokenize"
   ]
  },
  {
   "cell_type": "markdown",
   "id": "14f32166",
   "metadata": {},
   "source": [
    "## 3.Load the tokenized Paradise Lost from the Gutenberg Corpus in NLTK.* https://www.nltk.org/book/ch02.html . Stem or lemmatize the words and find counts. Select the top 20 words and create a histogram. Exclude stop words and make sure you are including words of all capitalizations in your count. If there are any meaningless “words” (“thus” and single letters, etc.) that are produced in your list or top words, alter your logic to exclude them. Specify why you chose stemming or lemmatization. "
   ]
  },
  {
   "cell_type": "code",
   "execution_count": 2,
   "id": "2c9b8f5b",
   "metadata": {},
   "outputs": [
    {
     "data": {
      "text/plain": [
       "['austen-emma.txt',\n",
       " 'austen-persuasion.txt',\n",
       " 'austen-sense.txt',\n",
       " 'bible-kjv.txt',\n",
       " 'blake-poems.txt',\n",
       " 'bryant-stories.txt',\n",
       " 'burgess-busterbrown.txt',\n",
       " 'carroll-alice.txt',\n",
       " 'chesterton-ball.txt',\n",
       " 'chesterton-brown.txt',\n",
       " 'chesterton-thursday.txt',\n",
       " 'edgeworth-parents.txt',\n",
       " 'melville-moby_dick.txt',\n",
       " 'milton-paradise.txt',\n",
       " 'shakespeare-caesar.txt',\n",
       " 'shakespeare-hamlet.txt',\n",
       " 'shakespeare-macbeth.txt',\n",
       " 'whitman-leaves.txt']"
      ]
     },
     "execution_count": 2,
     "metadata": {},
     "output_type": "execute_result"
    }
   ],
   "source": [
    "# gutenberg corpus\n",
    "nltk.corpus.gutenberg.fileids()"
   ]
  },
  {
   "cell_type": "code",
   "execution_count": 88,
   "id": "8ac96bc9",
   "metadata": {},
   "outputs": [],
   "source": [
    "# loading Paradise Lost sentences \n",
    "paradise_sent = nltk.corpus.gutenberg.sents('milton-paradise.txt')"
   ]
  },
  {
   "cell_type": "code",
   "execution_count": 89,
   "id": "4459a1ce",
   "metadata": {},
   "outputs": [
    {
     "data": {
      "text/plain": [
       "['[', 'Paradise', 'Lost', 'by', 'John', 'Milton', ...]"
      ]
     },
     "execution_count": 89,
     "metadata": {},
     "output_type": "execute_result"
    }
   ],
   "source": [
    "# loading paradise lost words\n",
    "paradise_words = nltk.corpus.gutenberg.words('milton-paradise.txt')\n",
    "paradise_words"
   ]
  },
  {
   "cell_type": "markdown",
   "id": "2dff8ab5",
   "metadata": {},
   "source": [
    "#### Stop words"
   ]
  },
  {
   "cell_type": "code",
   "execution_count": 42,
   "id": "d2844bc1",
   "metadata": {
    "scrolled": true
   },
   "outputs": [],
   "source": [
    "# stop words. NOTE: all stop words are in lower case\n",
    "#import nltk\n",
    "#nltk.download('stopwords')\n",
    "\n",
    "stop_words = set(nltk.corpus.stopwords.words('english'))"
   ]
  },
  {
   "cell_type": "markdown",
   "id": "1d7fee97",
   "metadata": {},
   "source": [
    "* After we print few sentences, we can do some text preprocessing. Lets remove stop words from paradise first few  sentences  and then we can use lemmetizer."
   ]
  },
  {
   "cell_type": "markdown",
   "id": "4893f915",
   "metadata": {},
   "source": [
    "#### Converting into lower case"
   ]
  },
  {
   "cell_type": "code",
   "execution_count": 90,
   "id": "aece2aaa",
   "metadata": {},
   "outputs": [],
   "source": [
    "# using list comprehension(LC) to lower the words from lost paadise words\n",
    "lower_case = [i.lower() for i in paradise_words ]"
   ]
  },
  {
   "cell_type": "markdown",
   "id": "62641c89",
   "metadata": {},
   "source": [
    "#### Removing stop words\n",
    "NOTE: from sentences we cant remove stop words, either we have to convert it into words(list) or we can use word tokenize "
   ]
  },
  {
   "cell_type": "code",
   "execution_count": 91,
   "id": "7086884d",
   "metadata": {},
   "outputs": [],
   "source": [
    "rem_stopword = [j for j in lower_case if j not in stop_words]"
   ]
  },
  {
   "cell_type": "markdown",
   "id": "ccdfe0c5",
   "metadata": {},
   "source": [
    "#### Using lemmatizer "
   ]
  },
  {
   "cell_type": "code",
   "execution_count": 51,
   "id": "b97a0403",
   "metadata": {},
   "outputs": [],
   "source": [
    "#import nltk\n",
    "#nltk.download('wordnet')\n",
    "#nltk.download('omw-1.4')"
   ]
  },
  {
   "cell_type": "code",
   "execution_count": 92,
   "id": "14fe931b",
   "metadata": {},
   "outputs": [
    {
     "name": "stdout",
     "output_type": "stream",
     "text": [
      "[(',', 10198), (';', 2317), ('.', 1254), (':', 748), (\"'\", 595), ('heaven', 436), ('thou', 432), ('thy', 414), ('thee', 358), ('-', 334), ('thus', 318), ('god', 316), ('?', 301), ('shall', 283), ('!', 251), ('yet', 228), ('earth', 217), ('though', 217), ('u', 187), ('man', 176)]\n"
     ]
    }
   ],
   "source": [
    "from nltk.stem import WordNetLemmatizer\n",
    "\n",
    "# creating an object for lemmatizer\n",
    "lemma = WordNetLemmatizer()\n",
    "\n",
    "# using list comprehension applying lemmatizer to the stop words removed sentence\n",
    "lemma_sent = [lemma.lemmatize(i) for i in rem_stopword]\n",
    "\n",
    "# counting bag of words using counter\n",
    "from collections import Counter\n",
    "bag_words = Counter(lemma_sent)\n",
    "\n",
    "# printing 20 words which are the most commom\n",
    "print(bag_words.most_common(20))"
   ]
  },
  {
   "cell_type": "markdown",
   "id": "c70e31fc",
   "metadata": {},
   "source": [
    "#### Using Stemmer"
   ]
  },
  {
   "cell_type": "code",
   "execution_count": 93,
   "id": "7ba01c71",
   "metadata": {},
   "outputs": [
    {
     "name": "stdout",
     "output_type": "stream",
     "text": [
      "[(',', 10198), (';', 2317), ('.', 1254), (':', 748), (\"'\", 595), ('heaven', 485), ('thou', 432), ('thi', 414), ('thee', 358), ('-', 334), ('thus', 318), ('god', 316), ('?', 301), ('shall', 283), ('!', 251), ('earth', 228), ('yet', 228), ('though', 217), ('us', 187), ('man', 178)]\n"
     ]
    }
   ],
   "source": [
    "from nltk.stem.snowball import SnowballStemmer\n",
    "\n",
    "# Instatntiating stemmer\n",
    "stemmer = SnowballStemmer(language = 'english')\n",
    "\n",
    "# using stemmer in lost paradise\n",
    "stemmed_paradise = [stemmer.stem(i) for i in rem_stopword]\n",
    "stemmed_paradise\n",
    "\n",
    "# already imported counter\n",
    "bag_stem = Counter(stemmed_paradise)\n",
    "print(bag_stem.most_common(20))"
   ]
  },
  {
   "cell_type": "markdown",
   "id": "e1567e0c",
   "metadata": {},
   "source": [
    "#### Specify why you chose stemming or lemmatization?"
   ]
  },
  {
   "cell_type": "markdown",
   "id": "d11b7a10",
   "metadata": {},
   "source": [
    "* From both of my lemmatizer and stemmer results, I decided to use lemmetizer. Because in stemmer some words aren't stemmed meaningfully. For instance, **('forc', 7)** force stemmed forc,**('chang', 6)** change as chang. But lemmatizer gave full meaning full words. **Hence I chose lemmatizer**."
   ]
  },
  {
   "cell_type": "markdown",
   "id": "b9a9e694",
   "metadata": {},
   "source": [
    "* my most common words contains punctuations and some meaningless words like st, th. I am enhancing my preprocseeing by  removing punctuations and again see the performance."
   ]
  },
  {
   "cell_type": "code",
   "execution_count": 94,
   "id": "421024ac",
   "metadata": {},
   "outputs": [],
   "source": [
    "# In python we have a builtin function is_alnum() used to print only alphatetical letters and numbers if its have.\n",
    "# To remove punctuations I am using that function in LC\n",
    "\n",
    "alpha_only = [i for i in lemma_sent if i.isalnum()]"
   ]
  },
  {
   "cell_type": "code",
   "execution_count": 97,
   "id": "1912bf32",
   "metadata": {},
   "outputs": [],
   "source": [
    "# bag of words contain some meaning less words like th, u. I am removing those.\n",
    "meaningless = ['th','u','thus','though','thou','yet','thee','thy']\n",
    "\n",
    "# removing these words from our alphanumeric only list\n",
    "final_words = [i for i in alpha_only if i not in meaningless]\n"
   ]
  },
  {
   "cell_type": "markdown",
   "id": "c0b171e8",
   "metadata": {},
   "source": [
    "#### Now punctuations are removed, checking bag counts using lemmatizer"
   ]
  },
  {
   "cell_type": "code",
   "execution_count": 98,
   "id": "ac5bda7f",
   "metadata": {},
   "outputs": [
    {
     "name": "stdout",
     "output_type": "stream",
     "text": [
      "[('Heaven', 436), ('God', 316), ('Shall', 283), ('Earth', 217), ('Man', 176), ('First', 175), ('Day', 157), ('High', 153), ('One', 142), ('Son', 132), ('Far', 129), ('Death', 127), ('May', 126), ('Power', 125), ('Great', 123), ('Till', 120), ('Like', 120), ('World', 119), ('Hell', 119), ('Thing', 116)]\n"
     ]
    }
   ],
   "source": [
    "lemma_sent = [lemma.lemmatize(i) for i in final_words]\n",
    "lemma_sent = [i.capitalize() for i in lemma_sent]\n",
    "\n",
    "# counting bag of words using counter\n",
    "bag_words = Counter(lemma_sent)\n",
    "\n",
    "# printing 20 words which are the most commom\n",
    "print(bag_words.most_common(20))"
   ]
  },
  {
   "cell_type": "markdown",
   "id": "e88788f3",
   "metadata": {},
   "source": [
    "#### Unpacking tuples"
   ]
  },
  {
   "cell_type": "code",
   "execution_count": 104,
   "id": "2c0341c5",
   "metadata": {},
   "outputs": [
    {
     "name": "stdout",
     "output_type": "stream",
     "text": [
      "('Heaven', 'God', 'Shall', 'Earth', 'Man', 'First', 'Day', 'High', 'One', 'Son', 'Far', 'Death', 'May', 'Power', 'Great', 'Till', 'Like', 'World', 'Hell', 'Thing')\n",
      "(436, 316, 283, 217, 176, 175, 157, 153, 142, 132, 129, 127, 126, 125, 123, 120, 120, 119, 119, 116)\n"
     ]
    }
   ],
   "source": [
    "# my bag of words is a list of tuples. I need words and word count separately to plot histogram. Unzipping tuple will \n",
    "# give those separate values. I can convert this into dataframe and plot histogram or I can unpack the tuples.\n",
    "\n",
    "bow_20 = bag_words.most_common(20)\n",
    "words, count = zip(*bow_20)\n",
    "print(words)\n",
    "print(count)"
   ]
  },
  {
   "cell_type": "markdown",
   "id": "1407b20d",
   "metadata": {},
   "source": [
    "#### Plotting bag of words"
   ]
  },
  {
   "cell_type": "code",
   "execution_count": 119,
   "id": "e2a265a1",
   "metadata": {},
   "outputs": [
    {
     "data": {
      "image/png": "[encoded data removed]",
      "text/plain": [
       "<Figure size 720x576 with 1 Axes>"
      ]
     },
     "metadata": {
      "needs_background": "light"
     },
     "output_type": "display_data"
    }
   ],
   "source": [
    "import matplotlib.pyplot as plt\n",
    "plt.figure(figsize=(10,8))\n",
    "plt.bar(words,count)\n",
    "plt.xlabel(\"First 20 Most Common words\")\n",
    "plt.ylabel(\"No. of Count\")\n",
    "plt.xticks(rotation = 90)\n",
    "plt.show();"
   ]
  },
  {
   "cell_type": "markdown",
   "id": "06d0b580",
   "metadata": {},
   "source": [
    "## 4.Perform Vader Sentiment Analysis on the book. Find the 5 most negative, 5 most positive, and 5 most neutral sentences in Paradise Lost. http://www.nltk.org/howto/sentiment.html . This may take a while to run, so you can always start with a small subset of the data (100 sentences) and then once your code works as expected, expand it to the whole book and let it run.\n"
   ]
  },
  {
   "cell_type": "markdown",
   "id": "5f179513",
   "metadata": {},
   "source": [
    "### Sentiment Analysis\n",
    "\n",
    "* Sentiment analysis is a text analysis method that detects polarity(i.e., positve or negatice opinion) within the text or paragraph or sentence.\n",
    "\n",
    "* VADAR(Valence Aware Dictionary for sEntiment Reasoning) is a text analysis method that is sensitive to both polarity (positive/negative) and intensity (strength) of emotion."
   ]
  },
  {
   "cell_type": "code",
   "execution_count": 3,
   "id": "58223237",
   "metadata": {},
   "outputs": [],
   "source": [
    "# lets print few sentences from paradise lost\n",
    "paradise_sentence_10 = nltk.corpus.gutenberg.sents('milton-paradise.txt')[:10]\n",
    "#paradise_sentence_10"
   ]
  },
  {
   "cell_type": "code",
   "execution_count": 4,
   "id": "2b84bfb7",
   "metadata": {},
   "outputs": [],
   "source": [
    "# downloading entire book\n",
    "paradise_sentence = nltk.corpus.gutenberg.sents('milton-paradise.txt')"
   ]
  },
  {
   "cell_type": "markdown",
   "id": "3281c0d7",
   "metadata": {},
   "source": [
    "#### Removing punctuations and spaces from the sentences"
   ]
  },
  {
   "cell_type": "code",
   "execution_count": 15,
   "id": "50f0af49",
   "metadata": {
    "scrolled": false
   },
   "outputs": [
    {
     "name": "stdout",
     "output_type": "stream",
     "text": [
      "[ Paradise Lost by John Milton 1667 ]Book IOf Man  s first disobedience,and the fruit Of that forbidden tree whose mortal taste Brought death into the World,and all our woe,With loss of Eden,till one greater Man Restore us,and regain the blissful seat,Sing,Heavenly Muse,that,on the secret top Of Oreb,or of Sinai,didst inspire That shepherd who first taught the chosen seed In the beginning how the heavens and earth Rose out of Chaos:or,if Sion hill Delight thee more,and Siloa  s brook that flowed Fast by the oracle of God,I thence Invoke thy aid to my adventurous song,That with no middle flight intends to soar Above th  Aonian mount,while it pursues Things unattempted yet in prose or rhyme.And chiefly thou,O Spirit,that dost prefer Before all temples th  upright heart and pure,Instruct me,for thou know  st;thou from the first Wast present,and,with mighty wings outspread,Dove - like sat  st brooding on the vast Abyss,And mad  st it pregnant:what in me is dark Illumine,what is low raise and support;That,to the height of this great argument,I may assert Eternal Providence,And justify the ways of God to men.Say first--for Heaven hides nothing from thy view,Nor the deep tract of Hell--say first what cause Moved our grand parents,in that happy state,Favoured of Heaven so highly,to fall off From their Creator,and transgress his will For one restraint,lords of the World besides.Who first seduced them to that foul revolt?Th  infernal Serpent;he it was whose guile,Stirred up with envy and revenge,deceived The mother of mankind,what time his pride Had cast him out from Heaven,with all his host Of rebel Angels,by whose aid,aspiring To set himself in glory above his peers,He trusted to have equalled the Most High,If he opposed,and with ambitious aim Against the throne and monarchy of God,Raised impious war in Heaven and battle proud,With vain attempt.Him the Almighty Power Hurled headlong flaming from th  ethereal sky,With hideous ruin and combustion,down To bottomless perdition,there to dwell In adamantine chains and penal fire,Who durst defy th  Omnipotent to arms.Nine times the space that measures day and night To mortal men,he,with his horrid crew,Lay vanquished,rolling in the fiery gulf,Confounded,though immortal.But his doom Reserved him to more wrath;for now the thought Both of lost happiness and lasting pain Torments him:round he throws his baleful eyes,That witnessed huge affliction and dismay,Mixed with obdurate pride and steadfast hate.\n"
     ]
    }
   ],
   "source": [
    "def plain_sentence(sentenc):\n",
    "    sent = ' '.join(sentenc).replace(' , ',',').replace(' .','.').replace(' ? ','?').replace(' : ',':')\\\n",
    "    .replace('  ','').replace(' )',')').replace(' !','!').replace(' ?','?').replace('\\'','').replace(' ,',',')\\\n",
    "    .replace(' .','.').replace(' ; ',';').replace(' ;',';').replace(' -- ','--').replace(' :',':').replace(' \" ','\"')\n",
    "    return sent\n",
    "    \n",
    "\n",
    "plain_sent = \"\"\n",
    "for i in range(0,len(paradise_sentence_10)):\n",
    "    plain_sent = plain_sent + plain_sentence(paradise_sentence_10[i])\n",
    "\n",
    "print(plain_sent)"
   ]
  },
  {
   "cell_type": "markdown",
   "id": "a34ef901",
   "metadata": {},
   "source": [
    "#### Calling the function for entire book"
   ]
  },
  {
   "cell_type": "code",
   "execution_count": 16,
   "id": "090c2ce8",
   "metadata": {},
   "outputs": [],
   "source": [
    "plain_sent = \"\"\n",
    "for i in range(0,len(paradise_sentence)):\n",
    "    plain_sent = plain_sent + plain_sentence(paradise_sentence[i])\n",
    "    \n",
    "#print(plain_sent)"
   ]
  },
  {
   "cell_type": "code",
   "execution_count": 11,
   "id": "4d29034b",
   "metadata": {},
   "outputs": [
    {
     "name": "stderr",
     "output_type": "stream",
     "text": [
      "[nltk_data] Downloading package vader_lexicon to\n",
      "[nltk_data]     C:\\Users\\Codergirl\\AppData\\Roaming\\nltk_data...\n",
      "[nltk_data]   Package vader_lexicon is already up-to-date!\n"
     ]
    },
    {
     "data": {
      "text/plain": [
       "True"
      ]
     },
     "execution_count": 11,
     "metadata": {},
     "output_type": "execute_result"
    }
   ],
   "source": [
    "import nltk\n",
    "nltk.download('vader_lexicon')"
   ]
  },
  {
   "cell_type": "markdown",
   "id": "7c0c6ed3",
   "metadata": {},
   "source": [
    "#### Sentiment Analysis for entire book"
   ]
  },
  {
   "cell_type": "code",
   "execution_count": 19,
   "id": "14f2b850",
   "metadata": {},
   "outputs": [
    {
     "name": "stdout",
     "output_type": "stream",
     "text": [
      "[{'neg': 0.1, 'neu': 0.746, 'pos': 0.154, 'compound': 1.0}]\n",
      "Paradise Lost book was rated as  10.0 % Negative\n",
      "Paradise Lost book was rated as  15.4 % Positive\n",
      "Paradise Lost book was rated as  74.6 % Neutral\n"
     ]
    }
   ],
   "source": [
    "from nltk.sentiment.vader import SentimentIntensityAnalyzer\n",
    "\n",
    "# creating an object for sentiment analyzer\n",
    "sentiment_analyzer = SentimentIntensityAnalyzer()\n",
    "\n",
    "# finding polarity\n",
    "sentiment = sentiment_analyzer.polarity_scores(plain_sent)\n",
    "\n",
    "print(sentiment_list)\n",
    "print(\"Paradise Lost book was rated as \",sentiment['neg']*100, \"% Negative\")\n",
    "print(\"Paradise Lost book was rated as \",sentiment['pos']*100, \"% Positive\")\n",
    "print(\"Paradise Lost book was rated as \",sentiment['neu']*100, \"% Neutral\")"
   ]
  },
  {
   "cell_type": "markdown",
   "id": "e796ba86",
   "metadata": {},
   "source": [
    "* Since I have to print most positive, negative and neutral lines, I am finding polarity to every lines in the book"
   ]
  },
  {
   "cell_type": "code",
   "execution_count": 36,
   "id": "384798cf",
   "metadata": {
    "scrolled": true
   },
   "outputs": [],
   "source": [
    "plain_sentlist =[]\n",
    "for i in range(0,len(paradise_sentence)):\n",
    "    plain_sentlist.append(plain_sentence(paradise_sentence[i]))\n",
    "    \n",
    "sentiment_list = []\n",
    "for i in range(0,len(plain_sentlist)):\n",
    "    sentiment = sentiment_analyzer.polarity_scores(plain_sentlist[i]) \n",
    "    sentiment_list.append({\"Positive\":sentiment['pos'],\n",
    "            \"Negative\":sentiment['neg'],\n",
    "            \"Neutral\":sentiment['neu']})  \n"
   ]
  },
  {
   "cell_type": "markdown",
   "id": "41c2770e",
   "metadata": {},
   "source": [
    "* I am converting sentiment analysis of entire lines into dataframe. So that I can print the top 5 list from descending order. "
   ]
  },
  {
   "cell_type": "code",
   "execution_count": 43,
   "id": "4f47f56d",
   "metadata": {},
   "outputs": [
    {
     "data": {
      "text/html": [
       "<div>\n",
       "<style scoped>\n",
       "    .dataframe tbody tr th:only-of-type {\n",
       "        vertical-align: middle;\n",
       "    }\n",
       "\n",
       "    .dataframe tbody tr th {\n",
       "        vertical-align: top;\n",
       "    }\n",
       "\n",
       "    .dataframe thead th {\n",
       "        text-align: right;\n",
       "    }\n",
       "</style>\n",
       "<table border=\"1\" class=\"dataframe\">\n",
       "  <thead>\n",
       "    <tr style=\"text-align: right;\">\n",
       "      <th></th>\n",
       "      <th>Positive</th>\n",
       "      <th>Negative</th>\n",
       "      <th>Neutral</th>\n",
       "    </tr>\n",
       "  </thead>\n",
       "  <tbody>\n",
       "    <tr>\n",
       "      <th>0</th>\n",
       "      <td>0.400</td>\n",
       "      <td>0.219</td>\n",
       "      <td>0.381</td>\n",
       "    </tr>\n",
       "    <tr>\n",
       "      <th>1</th>\n",
       "      <td>0.000</td>\n",
       "      <td>0.000</td>\n",
       "      <td>1.000</td>\n",
       "    </tr>\n",
       "    <tr>\n",
       "      <th>2</th>\n",
       "      <td>0.181</td>\n",
       "      <td>0.088</td>\n",
       "      <td>0.731</td>\n",
       "    </tr>\n",
       "    <tr>\n",
       "      <th>3</th>\n",
       "      <td>0.141</td>\n",
       "      <td>0.071</td>\n",
       "      <td>0.788</td>\n",
       "    </tr>\n",
       "    <tr>\n",
       "      <th>4</th>\n",
       "      <td>0.256</td>\n",
       "      <td>0.033</td>\n",
       "      <td>0.712</td>\n",
       "    </tr>\n",
       "    <tr>\n",
       "      <th>...</th>\n",
       "      <td>...</td>\n",
       "      <td>...</td>\n",
       "      <td>...</td>\n",
       "    </tr>\n",
       "    <tr>\n",
       "      <th>1846</th>\n",
       "      <td>0.323</td>\n",
       "      <td>0.097</td>\n",
       "      <td>0.581</td>\n",
       "    </tr>\n",
       "    <tr>\n",
       "      <th>1847</th>\n",
       "      <td>0.091</td>\n",
       "      <td>0.000</td>\n",
       "      <td>0.909</td>\n",
       "    </tr>\n",
       "    <tr>\n",
       "      <th>1848</th>\n",
       "      <td>0.091</td>\n",
       "      <td>0.033</td>\n",
       "      <td>0.876</td>\n",
       "    </tr>\n",
       "    <tr>\n",
       "      <th>1849</th>\n",
       "      <td>0.096</td>\n",
       "      <td>0.112</td>\n",
       "      <td>0.792</td>\n",
       "    </tr>\n",
       "    <tr>\n",
       "      <th>1850</th>\n",
       "      <td>0.000</td>\n",
       "      <td>0.000</td>\n",
       "      <td>1.000</td>\n",
       "    </tr>\n",
       "  </tbody>\n",
       "</table>\n",
       "<p>1851 rows × 3 columns</p>\n",
       "</div>"
      ],
      "text/plain": [
       "      Positive  Negative  Neutral\n",
       "0        0.400     0.219    0.381\n",
       "1        0.000     0.000    1.000\n",
       "2        0.181     0.088    0.731\n",
       "3        0.141     0.071    0.788\n",
       "4        0.256     0.033    0.712\n",
       "...        ...       ...      ...\n",
       "1846     0.323     0.097    0.581\n",
       "1847     0.091     0.000    0.909\n",
       "1848     0.091     0.033    0.876\n",
       "1849     0.096     0.112    0.792\n",
       "1850     0.000     0.000    1.000\n",
       "\n",
       "[1851 rows x 3 columns]"
      ]
     },
     "execution_count": 43,
     "metadata": {},
     "output_type": "execute_result"
    }
   ],
   "source": [
    "import pandas as pd\n",
    "\n",
    "sentiment_df = pd.DataFrame(sentiment_list)\n",
    "sentiment_df"
   ]
  },
  {
   "cell_type": "markdown",
   "id": "1f667373",
   "metadata": {},
   "source": [
    "* Appended sentences into the dataframe to print the most 5 positive, negative, neutral lines from the book"
   ]
  },
  {
   "cell_type": "code",
   "execution_count": 49,
   "id": "5fa01d9e",
   "metadata": {},
   "outputs": [
    {
     "data": {
      "text/html": [
       "<div>\n",
       "<style scoped>\n",
       "    .dataframe tbody tr th:only-of-type {\n",
       "        vertical-align: middle;\n",
       "    }\n",
       "\n",
       "    .dataframe tbody tr th {\n",
       "        vertical-align: top;\n",
       "    }\n",
       "\n",
       "    .dataframe thead th {\n",
       "        text-align: right;\n",
       "    }\n",
       "</style>\n",
       "<table border=\"1\" class=\"dataframe\">\n",
       "  <thead>\n",
       "    <tr style=\"text-align: right;\">\n",
       "      <th></th>\n",
       "      <th>Positive</th>\n",
       "      <th>Negative</th>\n",
       "      <th>Neutral</th>\n",
       "      <th>sentences</th>\n",
       "    </tr>\n",
       "  </thead>\n",
       "  <tbody>\n",
       "    <tr>\n",
       "      <th>0</th>\n",
       "      <td>0.400</td>\n",
       "      <td>0.219</td>\n",
       "      <td>0.381</td>\n",
       "      <td>[ Paradise Lost by John Milton 1667 ]</td>\n",
       "    </tr>\n",
       "    <tr>\n",
       "      <th>1</th>\n",
       "      <td>0.000</td>\n",
       "      <td>0.000</td>\n",
       "      <td>1.000</td>\n",
       "      <td>Book I</td>\n",
       "    </tr>\n",
       "    <tr>\n",
       "      <th>2</th>\n",
       "      <td>0.181</td>\n",
       "      <td>0.088</td>\n",
       "      <td>0.731</td>\n",
       "      <td>Of Man  s first disobedience,and the fruit Of ...</td>\n",
       "    </tr>\n",
       "    <tr>\n",
       "      <th>3</th>\n",
       "      <td>0.141</td>\n",
       "      <td>0.071</td>\n",
       "      <td>0.788</td>\n",
       "      <td>And chiefly thou,O Spirit,that dost prefer Bef...</td>\n",
       "    </tr>\n",
       "    <tr>\n",
       "      <th>4</th>\n",
       "      <td>0.256</td>\n",
       "      <td>0.033</td>\n",
       "      <td>0.712</td>\n",
       "      <td>Say first--for Heaven hides nothing from thy v...</td>\n",
       "    </tr>\n",
       "    <tr>\n",
       "      <th>...</th>\n",
       "      <td>...</td>\n",
       "      <td>...</td>\n",
       "      <td>...</td>\n",
       "      <td>...</td>\n",
       "    </tr>\n",
       "    <tr>\n",
       "      <th>1846</th>\n",
       "      <td>0.323</td>\n",
       "      <td>0.097</td>\n",
       "      <td>0.581</td>\n",
       "      <td>This further consolation yet secure I carry he...</td>\n",
       "    </tr>\n",
       "    <tr>\n",
       "      <th>1847</th>\n",
       "      <td>0.091</td>\n",
       "      <td>0.000</td>\n",
       "      <td>0.909</td>\n",
       "      <td>So spake our mother Eve;and Adam heard Well pl...</td>\n",
       "    </tr>\n",
       "    <tr>\n",
       "      <th>1848</th>\n",
       "      <td>0.091</td>\n",
       "      <td>0.033</td>\n",
       "      <td>0.876</td>\n",
       "      <td>High in front advanced,The brandished sword of...</td>\n",
       "    </tr>\n",
       "    <tr>\n",
       "      <th>1849</th>\n",
       "      <td>0.096</td>\n",
       "      <td>0.112</td>\n",
       "      <td>0.792</td>\n",
       "      <td>They,looking back,all the eastern side beheld ...</td>\n",
       "    </tr>\n",
       "    <tr>\n",
       "      <th>1850</th>\n",
       "      <td>0.000</td>\n",
       "      <td>0.000</td>\n",
       "      <td>1.000</td>\n",
       "      <td>[ The End ]\u001a\u001a</td>\n",
       "    </tr>\n",
       "  </tbody>\n",
       "</table>\n",
       "<p>1851 rows × 4 columns</p>\n",
       "</div>"
      ],
      "text/plain": [
       "      Positive  Negative  Neutral  \\\n",
       "0        0.400     0.219    0.381   \n",
       "1        0.000     0.000    1.000   \n",
       "2        0.181     0.088    0.731   \n",
       "3        0.141     0.071    0.788   \n",
       "4        0.256     0.033    0.712   \n",
       "...        ...       ...      ...   \n",
       "1846     0.323     0.097    0.581   \n",
       "1847     0.091     0.000    0.909   \n",
       "1848     0.091     0.033    0.876   \n",
       "1849     0.096     0.112    0.792   \n",
       "1850     0.000     0.000    1.000   \n",
       "\n",
       "                                              sentences  \n",
       "0                 [ Paradise Lost by John Milton 1667 ]  \n",
       "1                                                Book I  \n",
       "2     Of Man  s first disobedience,and the fruit Of ...  \n",
       "3     And chiefly thou,O Spirit,that dost prefer Bef...  \n",
       "4     Say first--for Heaven hides nothing from thy v...  \n",
       "...                                                 ...  \n",
       "1846  This further consolation yet secure I carry he...  \n",
       "1847  So spake our mother Eve;and Adam heard Well pl...  \n",
       "1848  High in front advanced,The brandished sword of...  \n",
       "1849  They,looking back,all the eastern side beheld ...  \n",
       "1850                                      [ The End ]\u001a\u001a  \n",
       "\n",
       "[1851 rows x 4 columns]"
      ]
     },
     "execution_count": 49,
     "metadata": {},
     "output_type": "execute_result"
    }
   ],
   "source": [
    "sentiment_df['sentences'] = plain_sentlist\n",
    "sentiment_df"
   ]
  },
  {
   "cell_type": "markdown",
   "id": "fb5a2e75",
   "metadata": {},
   "source": [
    "#### Most 5 Positive sentences"
   ]
  },
  {
   "cell_type": "code",
   "execution_count": 54,
   "id": "d656d8c5",
   "metadata": {},
   "outputs": [
    {
     "data": {
      "text/html": [
       "<div>\n",
       "<style scoped>\n",
       "    .dataframe tbody tr th:only-of-type {\n",
       "        vertical-align: middle;\n",
       "    }\n",
       "\n",
       "    .dataframe tbody tr th {\n",
       "        vertical-align: top;\n",
       "    }\n",
       "\n",
       "    .dataframe thead th {\n",
       "        text-align: right;\n",
       "    }\n",
       "</style>\n",
       "<table border=\"1\" class=\"dataframe\">\n",
       "  <thead>\n",
       "    <tr style=\"text-align: right;\">\n",
       "      <th></th>\n",
       "      <th>Positive</th>\n",
       "      <th>sentences</th>\n",
       "    </tr>\n",
       "  </thead>\n",
       "  <tbody>\n",
       "    <tr>\n",
       "      <th>828</th>\n",
       "      <td>1.000</td>\n",
       "      <td>O Heaven!</td>\n",
       "    </tr>\n",
       "    <tr>\n",
       "      <th>1441</th>\n",
       "      <td>1.000</td>\n",
       "      <td>O Heaven!</td>\n",
       "    </tr>\n",
       "    <tr>\n",
       "      <th>605</th>\n",
       "      <td>1.000</td>\n",
       "      <td>O friends!</td>\n",
       "    </tr>\n",
       "    <tr>\n",
       "      <th>908</th>\n",
       "      <td>1.000</td>\n",
       "      <td>O Friends!</td>\n",
       "    </tr>\n",
       "    <tr>\n",
       "      <th>626</th>\n",
       "      <td>0.787</td>\n",
       "      <td>Courageous Chief!</td>\n",
       "    </tr>\n",
       "  </tbody>\n",
       "</table>\n",
       "</div>"
      ],
      "text/plain": [
       "      Positive          sentences\n",
       "828      1.000          O Heaven!\n",
       "1441     1.000          O Heaven!\n",
       "605      1.000         O friends!\n",
       "908      1.000         O Friends!\n",
       "626      0.787  Courageous Chief!"
      ]
     },
     "execution_count": 54,
     "metadata": {},
     "output_type": "execute_result"
    }
   ],
   "source": [
    "positve_df = sentiment_df[['Positive','sentences']]\n",
    "most_5_pos = positve_df.sort_values(ascending = False, by ='Positive')\n",
    "most_5_pos.head()"
   ]
  },
  {
   "cell_type": "markdown",
   "id": "953d4e95",
   "metadata": {},
   "source": [
    "#### Most 5 Negative sentences"
   ]
  },
  {
   "cell_type": "code",
   "execution_count": 55,
   "id": "dfa071f1",
   "metadata": {},
   "outputs": [
    {
     "data": {
      "text/html": [
       "<div>\n",
       "<style scoped>\n",
       "    .dataframe tbody tr th:only-of-type {\n",
       "        vertical-align: middle;\n",
       "    }\n",
       "\n",
       "    .dataframe tbody tr th {\n",
       "        vertical-align: top;\n",
       "    }\n",
       "\n",
       "    .dataframe thead th {\n",
       "        text-align: right;\n",
       "    }\n",
       "</style>\n",
       "<table border=\"1\" class=\"dataframe\">\n",
       "  <thead>\n",
       "    <tr style=\"text-align: right;\">\n",
       "      <th></th>\n",
       "      <th>Negative</th>\n",
       "      <th>sentences</th>\n",
       "    </tr>\n",
       "  </thead>\n",
       "  <tbody>\n",
       "    <tr>\n",
       "      <th>512</th>\n",
       "      <td>1.000</td>\n",
       "      <td>O Hell!</td>\n",
       "    </tr>\n",
       "    <tr>\n",
       "      <th>153</th>\n",
       "      <td>1.000</td>\n",
       "      <td>No!</td>\n",
       "    </tr>\n",
       "    <tr>\n",
       "      <th>1689</th>\n",
       "      <td>1.000</td>\n",
       "      <td>Alas!</td>\n",
       "    </tr>\n",
       "    <tr>\n",
       "      <th>478</th>\n",
       "      <td>0.777</td>\n",
       "      <td>Me miserable!</td>\n",
       "    </tr>\n",
       "    <tr>\n",
       "      <th>314</th>\n",
       "      <td>0.773</td>\n",
       "      <td>I fled,and cried out Death!</td>\n",
       "    </tr>\n",
       "  </tbody>\n",
       "</table>\n",
       "</div>"
      ],
      "text/plain": [
       "      Negative                    sentences\n",
       "512      1.000                      O Hell!\n",
       "153      1.000                          No!\n",
       "1689     1.000                        Alas!\n",
       "478      0.777                Me miserable!\n",
       "314      0.773  I fled,and cried out Death!"
      ]
     },
     "execution_count": 55,
     "metadata": {},
     "output_type": "execute_result"
    }
   ],
   "source": [
    "negative_df = sentiment_df[['Negative','sentences']]\n",
    "most_5_neg =negative_df.sort_values(ascending = False, by ='Negative').head()\n",
    "most_5_neg"
   ]
  },
  {
   "cell_type": "markdown",
   "id": "97d5d4d1",
   "metadata": {},
   "source": [
    "#### Most 5 Neutral sentences"
   ]
  },
  {
   "cell_type": "code",
   "execution_count": 56,
   "id": "b0e85997",
   "metadata": {},
   "outputs": [
    {
     "data": {
      "text/html": [
       "<div>\n",
       "<style scoped>\n",
       "    .dataframe tbody tr th:only-of-type {\n",
       "        vertical-align: middle;\n",
       "    }\n",
       "\n",
       "    .dataframe tbody tr th {\n",
       "        vertical-align: top;\n",
       "    }\n",
       "\n",
       "    .dataframe thead th {\n",
       "        text-align: right;\n",
       "    }\n",
       "</style>\n",
       "<table border=\"1\" class=\"dataframe\">\n",
       "  <thead>\n",
       "    <tr style=\"text-align: right;\">\n",
       "      <th></th>\n",
       "      <th>Neutral</th>\n",
       "      <th>sentences</th>\n",
       "    </tr>\n",
       "  </thead>\n",
       "  <tbody>\n",
       "    <tr>\n",
       "      <th>1850</th>\n",
       "      <td>1.0</td>\n",
       "      <td>[ The End ]\u001a\u001a</td>\n",
       "    </tr>\n",
       "    <tr>\n",
       "      <th>673</th>\n",
       "      <td>1.0</td>\n",
       "      <td>Oft in her absence mimick Fancy wakes To imita...</td>\n",
       "    </tr>\n",
       "    <tr>\n",
       "      <th>1274</th>\n",
       "      <td>1.0</td>\n",
       "      <td>To whom the Tempter guilefully replied.</td>\n",
       "    </tr>\n",
       "    <tr>\n",
       "      <th>665</th>\n",
       "      <td>1.0</td>\n",
       "      <td>Here,happy creature,fair angelick Eve!</td>\n",
       "    </tr>\n",
       "    <tr>\n",
       "      <th>284</th>\n",
       "      <td>1.0</td>\n",
       "      <td>The one seemed woman to the waist,and fair,But...</td>\n",
       "    </tr>\n",
       "  </tbody>\n",
       "</table>\n",
       "</div>"
      ],
      "text/plain": [
       "      Neutral                                          sentences\n",
       "1850      1.0                                      [ The End ]\u001a\u001a\n",
       "673       1.0  Oft in her absence mimick Fancy wakes To imita...\n",
       "1274      1.0            To whom the Tempter guilefully replied.\n",
       "665       1.0             Here,happy creature,fair angelick Eve!\n",
       "284       1.0  The one seemed woman to the waist,and fair,But..."
      ]
     },
     "execution_count": 56,
     "metadata": {},
     "output_type": "execute_result"
    }
   ],
   "source": [
    "Neutral_df = sentiment_df[['Neutral','sentences']]\n",
    "most_5_neu = Neutral_df.sort_values(ascending = False, by ='Neutral').head()\n",
    "most_5_neu"
   ]
  },
  {
   "cell_type": "code",
   "execution_count": 57,
   "id": "fdae7dce",
   "metadata": {},
   "outputs": [
    {
     "data": {
      "text/plain": [
       "'The one seemed woman to the waist,and fair,But ended foul in many a scaly fold,Voluminous and vast--a serpent armed With mortal sting.'"
      ]
     },
     "execution_count": 57,
     "metadata": {},
     "output_type": "execute_result"
    }
   ],
   "source": [
    "sentiment_df['sentences'][284]"
   ]
  },
  {
   "cell_type": "code",
   "execution_count": 60,
   "id": "5612e910",
   "metadata": {},
   "outputs": [
    {
     "data": {
      "text/plain": [
       "'Oft in her absence mimick Fancy wakes To imitate her;but,misjoining shapes,Wild work produces oft,and most in dreams;Ill matching words and deeds long past or late.'"
      ]
     },
     "execution_count": 60,
     "metadata": {},
     "output_type": "execute_result"
    }
   ],
   "source": [
    "sentiment_df['sentences'][673]"
   ]
  },
  {
   "cell_type": "markdown",
   "id": "28651185",
   "metadata": {},
   "source": [
    "## 5. Explain your findings from the previous question. Are the sentences and their sentiment analysis scores correct? Explain why or why not. "
   ]
  },
  {
   "cell_type": "markdown",
   "id": "0d975b6d",
   "metadata": {},
   "source": [
    "* All my top 5 positive sentences looks delightful. It is expressing happiness. So I agree with my positive findings.\n",
    "\n",
    "* If you see my top 5 negative sentences(**OHell, No!!, Alas!! , miserable, cried**) are expressing sadness. So sentiment analysis with negative commands are also acceptable.\n",
    "\n",
    "* All 4 sentences other that **\"Here,happy creature,fair angelick Eve!\"** sentences from neutral seems to be without any expressions. But I doubt this one. My analysis shows its 100% neutral. My thoughts about is Happy creature, eves might come under positive sentiment. "
   ]
  },
  {
   "cell_type": "code",
   "execution_count": null,
   "id": "a2207bcc",
   "metadata": {},
   "outputs": [],
   "source": []
  }
 ],
 "metadata": {
  "kernelspec": {
   "display_name": "Python 3 (ipykernel)",
   "language": "python",
   "name": "python3"
  },
  "language_info": {
   "codemirror_mode": {
    "name": "ipython",
    "version": 3
   },
   "file_extension": ".py",
   "mimetype": "text/x-python",
   "name": "python",
   "nbconvert_exporter": "python",
   "pygments_lexer": "ipython3",
   "version": "3.7.4"
  }
 },
 "nbformat": 4,
 "nbformat_minor": 5
}
