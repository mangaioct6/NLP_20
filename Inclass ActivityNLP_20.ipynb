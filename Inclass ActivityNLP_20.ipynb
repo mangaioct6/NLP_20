{
 "cells": [
  {
   "cell_type": "markdown",
   "id": "f3af619c",
   "metadata": {},
   "source": [
    "## InClassAct_20"
   ]
  },
  {
   "cell_type": "markdown",
   "id": "2f8ca7ce",
   "metadata": {},
   "source": [
    "## 1. Take the result of the following line of code (but use whatever available text you want)and write a function to concatenate the data back into sentences, with one readable sentence in each list.\n",
    "\n",
    "sentences = nltk.corpus.gutenberg.sents(\"carroll-alice.txt\")[:10]"
   ]
  },
  {
   "cell_type": "code",
   "execution_count": 2,
   "id": "944e708c",
   "metadata": {},
   "outputs": [
    {
     "name": "stdout",
     "output_type": "stream",
     "text": [
      "[['[', 'Alice', \"'\", 's', 'Adventures', 'in', 'Wonderland', 'by', 'Lewis', 'Carroll', '1865', ']'], ['CHAPTER', 'I', '.'], ['Down', 'the', 'Rabbit', '-', 'Hole'], ['Alice', 'was', 'beginning', 'to', 'get', 'very', 'tired', 'of', 'sitting', 'by', 'her', 'sister', 'on', 'the', 'bank', ',', 'and', 'of', 'having', 'nothing', 'to', 'do', ':', 'once', 'or', 'twice', 'she', 'had', 'peeped', 'into', 'the', 'book', 'her', 'sister', 'was', 'reading', ',', 'but', 'it', 'had', 'no', 'pictures', 'or', 'conversations', 'in', 'it', ',', \"'\", 'and', 'what', 'is', 'the', 'use', 'of', 'a', 'book', \",'\", 'thought', 'Alice', \"'\", 'without', 'pictures', 'or', 'conversation', \"?'\"], ['So', 'she', 'was', 'considering', 'in', 'her', 'own', 'mind', '(', 'as', 'well', 'as', 'she', 'could', ',', 'for', 'the', 'hot', 'day', 'made', 'her', 'feel', 'very', 'sleepy', 'and', 'stupid', '),', 'whether', 'the', 'pleasure', 'of', 'making', 'a', 'daisy', '-', 'chain', 'would', 'be', 'worth', 'the', 'trouble', 'of', 'getting', 'up', 'and', 'picking', 'the', 'daisies', ',', 'when', 'suddenly', 'a', 'White', 'Rabbit', 'with', 'pink', 'eyes', 'ran', 'close', 'by', 'her', '.'], ['There', 'was', 'nothing', 'so', 'VERY', 'remarkable', 'in', 'that', ';', 'nor', 'did', 'Alice', 'think', 'it', 'so', 'VERY', 'much', 'out', 'of', 'the', 'way', 'to', 'hear', 'the', 'Rabbit', 'say', 'to', 'itself', ',', \"'\", 'Oh', 'dear', '!'], ['Oh', 'dear', '!'], ['I', 'shall', 'be', 'late', \"!'\"], ['(', 'when', 'she', 'thought', 'it', 'over', 'afterwards', ',', 'it', 'occurred', 'to', 'her', 'that', 'she', 'ought', 'to', 'have', 'wondered', 'at', 'this', ',', 'but', 'at', 'the', 'time', 'it', 'all', 'seemed', 'quite', 'natural', ');', 'but', 'when', 'the', 'Rabbit', 'actually', 'TOOK', 'A', 'WATCH', 'OUT', 'OF', 'ITS', 'WAISTCOAT', '-', 'POCKET', ',', 'and', 'looked', 'at', 'it', ',', 'and', 'then', 'hurried', 'on', ',', 'Alice', 'started', 'to', 'her', 'feet', ',', 'for', 'it', 'flashed', 'across', 'her', 'mind', 'that', 'she', 'had', 'never', 'before', 'seen', 'a', 'rabbit', 'with', 'either', 'a', 'waistcoat', '-', 'pocket', ',', 'or', 'a', 'watch', 'to', 'take', 'out', 'of', 'it', ',', 'and', 'burning', 'with', 'curiosity', ',', 'she', 'ran', 'across', 'the', 'field', 'after', 'it', ',', 'and', 'fortunately', 'was', 'just', 'in', 'time', 'to', 'see', 'it', 'pop', 'down', 'a', 'large', 'rabbit', '-', 'hole', 'under', 'the', 'hedge', '.'], ['In', 'another', 'moment', 'down', 'went', 'Alice', 'after', 'it', ',', 'never', 'once', 'considering', 'how', 'in', 'the', 'world', 'she', 'was', 'to', 'get', 'out', 'again', '.']]\n"
     ]
    }
   ],
   "source": [
    "import nltk\n",
    "#nltk.download('punkt')\n",
    "#nltk.download('gutenberg')\n",
    "from nltk.tokenize import word_tokenize\n",
    "sentences = nltk.corpus.gutenberg.sents(\"carroll-alice.txt\")[:10]\n",
    "print(sentences)"
   ]
  },
  {
   "cell_type": "code",
   "execution_count": 125,
   "id": "86e21b58",
   "metadata": {
    "scrolled": false
   },
   "outputs": [
    {
     "name": "stdout",
     "output_type": "stream",
     "text": [
      "[\"[ Alice ' s Adventures in Wonderland by Lewis Carroll 1865 ]\"]\n",
      "['CHAPTER I .']\n",
      "['Down the Rabbit - Hole']\n",
      "[\"Alice was beginning to get very tired of sitting by her sister on the bank , and of having nothing to do : once or twice she had peeped into the book her sister was reading , but it had no pictures or conversations in it , ' and what is the use of a book ,' thought Alice ' without pictures or conversation ?'\"]\n",
      "['So she was considering in her own mind ( as well as she could , for the hot day made her feel very sleepy and stupid ), whether the pleasure of making a daisy - chain would be worth the trouble of getting up and picking the daisies , when suddenly a White Rabbit with pink eyes ran close by her .']\n",
      "[\"There was nothing so VERY remarkable in that ; nor did Alice think it so VERY much out of the way to hear the Rabbit say to itself , ' Oh dear !\"]\n",
      "['Oh dear !']\n",
      "[\"I shall be late !'\"]\n",
      "['( when she thought it over afterwards , it occurred to her that she ought to have wondered at this , but at the time it all seemed quite natural ); but when the Rabbit actually TOOK A WATCH OUT OF ITS WAISTCOAT - POCKET , and looked at it , and then hurried on , Alice started to her feet , for it flashed across her mind that she had never before seen a rabbit with either a waistcoat - pocket , or a watch to take out of it , and burning with curiosity , she ran across the field after it , and fortunately was just in time to see it pop down a large rabbit - hole under the hedge .']\n",
      "['In another moment down went Alice after it , never once considering how in the world she was to get out again .']\n"
     ]
    }
   ],
   "source": [
    "# this function returns above sentences in readable format\n",
    "def nlp(sentenc):\n",
    "    empty = []\n",
    "    empty.append(\" \".join(sentenc))\n",
    "    return empty\n",
    "    \n",
    "for i in range(0,10):\n",
    "    print(nlp(sentences[i]))"
   ]
  },
  {
   "cell_type": "code",
   "execution_count": 132,
   "id": "d45bb8d9",
   "metadata": {},
   "outputs": [
    {
     "data": {
      "text/plain": [
       "[\"[ Alice ' s Adventures in Wonderland by Lewis Carroll 1865 ]\",\n",
       " 'CHAPTER I .',\n",
       " 'Down the Rabbit - Hole',\n",
       " \"Alice was beginning to get very tired of sitting by her sister on the bank , and of having nothing to do : once or twice she had peeped into the book her sister was reading , but it had no pictures or conversations in it , ' and what is the use of a book ,' thought Alice ' without pictures or conversation ?'\",\n",
       " 'So she was considering in her own mind ( as well as she could , for the hot day made her feel very sleepy and stupid ), whether the pleasure of making a daisy - chain would be worth the trouble of getting up and picking the daisies , when suddenly a White Rabbit with pink eyes ran close by her .',\n",
       " \"There was nothing so VERY remarkable in that ; nor did Alice think it so VERY much out of the way to hear the Rabbit say to itself , ' Oh dear !\",\n",
       " 'Oh dear !',\n",
       " \"I shall be late !'\",\n",
       " '( when she thought it over afterwards , it occurred to her that she ought to have wondered at this , but at the time it all seemed quite natural ); but when the Rabbit actually TOOK A WATCH OUT OF ITS WAISTCOAT - POCKET , and looked at it , and then hurried on , Alice started to her feet , for it flashed across her mind that she had never before seen a rabbit with either a waistcoat - pocket , or a watch to take out of it , and burning with curiosity , she ran across the field after it , and fortunately was just in time to see it pop down a large rabbit - hole under the hedge .',\n",
       " 'In another moment down went Alice after it , never once considering how in the world she was to get out again .']"
      ]
     },
     "execution_count": 132,
     "metadata": {},
     "output_type": "execute_result"
    }
   ],
   "source": [
    "# I just included another function which I have converted into readable format\n",
    "def nlp(sentenc):\n",
    "    empty = []\n",
    "    for i in sentenc:\n",
    "        empty.append(' '.join(i))\n",
    "    return empty\n",
    "\n",
    "nlp(sentences)"
   ]
  },
  {
   "cell_type": "markdown",
   "id": "3f7c7acf",
   "metadata": {},
   "source": [
    "## 2.Create a function that accepts a list of values. Filter out all values that are numeric and return the new list.\n",
    "\n",
    "Input:\n",
    "\n",
    "[1,2,'a','b',7.6]\n",
    "\n",
    "output:\n",
    "\n",
    "[‘a’,’b’]"
   ]
  },
  {
   "cell_type": "markdown",
   "id": "e9e46e35",
   "metadata": {},
   "source": [
    "* isalpha - checking whether a string consists of only alphabetical characters.\n",
    "* isnumeric - checks whether a string consists of only numeric characters\n",
    "* isalnum - checks whether a string consists of only letters and numbers, without special characters or punctuation"
   ]
  },
  {
   "cell_type": "code",
   "execution_count": 126,
   "id": "2ade734d",
   "metadata": {},
   "outputs": [
    {
     "name": "stdout",
     "output_type": "stream",
     "text": [
      "['a', 'b']\n"
     ]
    }
   ],
   "source": [
    "# using iteration\n",
    "def alpha(n):\n",
    "    empty = []\n",
    "    for i in n:\n",
    "        if str(i).isalpha():\n",
    "            empty.append(i)\n",
    "    print(empty)\n",
    "\n",
    "alpha([1,2,'a','b',7.6])  "
   ]
  },
  {
   "cell_type": "code",
   "execution_count": 127,
   "id": "ea24d975",
   "metadata": {},
   "outputs": [
    {
     "name": "stdout",
     "output_type": "stream",
     "text": [
      "['a', 'b']\n"
     ]
    }
   ],
   "source": [
    "alpha([1,2,'a','b','@'])    "
   ]
  },
  {
   "cell_type": "code",
   "execution_count": 128,
   "id": "67a624d0",
   "metadata": {},
   "outputs": [],
   "source": [
    "# using list comprehension\n",
    "def comprehension(n):\n",
    "    alpha = [i for i in n if type(i)== str]\n",
    "    return alpha"
   ]
  },
  {
   "cell_type": "code",
   "execution_count": 129,
   "id": "63ea8ad4",
   "metadata": {},
   "outputs": [
    {
     "data": {
      "text/plain": [
       "['a', 'b']"
      ]
     },
     "execution_count": 129,
     "metadata": {},
     "output_type": "execute_result"
    }
   ],
   "source": [
    "comprehension([1,2,'a','b',7.6])"
   ]
  },
  {
   "cell_type": "code",
   "execution_count": 130,
   "id": "3b947e6f",
   "metadata": {},
   "outputs": [],
   "source": [
    "# using lambda\n",
    "def lambda_a(b):\n",
    "    l = list(filter(lambda x: str(x).isalpha(),b))\n",
    "    return l"
   ]
  },
  {
   "cell_type": "code",
   "execution_count": 131,
   "id": "0a517f7a",
   "metadata": {},
   "outputs": [
    {
     "data": {
      "text/plain": [
       "['a', 'b']"
      ]
     },
     "execution_count": 131,
     "metadata": {},
     "output_type": "execute_result"
    }
   ],
   "source": [
    "lambda_a([1,2,'a','b',7.6])"
   ]
  }
 ],
 "metadata": {
  "kernelspec": {
   "display_name": "Python 3 (ipykernel)",
   "language": "python",
   "name": "python3"
  },
  "language_info": {
   "codemirror_mode": {
    "name": "ipython",
    "version": 3
   },
   "file_extension": ".py",
   "mimetype": "text/x-python",
   "name": "python",
   "nbconvert_exporter": "python",
   "pygments_lexer": "ipython3",
   "version": "3.7.4"
  }
 },
 "nbformat": 4,
 "nbformat_minor": 5
}
