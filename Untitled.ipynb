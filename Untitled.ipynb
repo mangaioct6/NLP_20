{
 "cells": [
  {
   "cell_type": "code",
   "execution_count": 92,
   "id": "a049ac9c",
   "metadata": {},
   "outputs": [],
   "source": [
    "def num(n):\n",
    "    str1 = ''\n",
    "    i = 1\n",
    "    if n < 1:\n",
    "        return 'negative number'\n",
    "    while i <= n:\n",
    "        if i %3 == 0 and i %5 == 0:\n",
    "            str1 = str1 + str(i) + 'fizzbuzz'\n",
    "        elif i %3 ==0:\n",
    "            str1 = str1 + str(i) + 'fizz' \n",
    "        elif i % 5 ==0:\n",
    "            str1 = str1 + str(i) + 'buzz' \n",
    "        else:\n",
    "            str1 = str1 + str(i)\n",
    "        if i < n:\n",
    "            str1 = str1 + ','\n",
    "        i+=1\n",
    "        \n",
    "    print(str1)\n",
    "    "
   ]
  },
  {
   "cell_type": "code",
   "execution_count": 94,
   "id": "8c4ba861",
   "metadata": {},
   "outputs": [
    {
     "name": "stdout",
     "output_type": "stream",
     "text": [
      "1,2,3fizz,4,5buzz,6fizz,7,8,9fizz,10buzz,11,12fizz,13,14,15fizzbuzz\n"
     ]
    }
   ],
   "source": [
    "num(15)"
   ]
  },
  {
   "cell_type": "code",
   "execution_count": 208,
   "id": "40bf2fb2",
   "metadata": {},
   "outputs": [],
   "source": [
    "def fibo(n):\n",
    "    x = 0\n",
    "    y = 1\n",
    "    if n == 0:\n",
    "        print(0)\n",
    "    elif n == 1:\n",
    "        print(1)\n",
    "    else:\n",
    "        #print(x)\n",
    "        #print(y)\n",
    "        for i in range(2,n):\n",
    "            if i <= n:\n",
    "                z = x+y\n",
    "                x = y\n",
    "                y = z\n",
    "        print(z)"
   ]
  },
  {
   "cell_type": "code",
   "execution_count": 209,
   "id": "31ab87e1",
   "metadata": {},
   "outputs": [
    {
     "name": "stdout",
     "output_type": "stream",
     "text": [
      "173402521172797813159685037284371942044301\n"
     ]
    }
   ],
   "source": [
    "fibo(200)"
   ]
  },
  {
   "cell_type": "code",
   "execution_count": 200,
   "id": "9d842214",
   "metadata": {},
   "outputs": [
    {
     "name": "stdout",
     "output_type": "stream",
     "text": [
      "Enter number: 8\n",
      "0\n",
      "1\n",
      "1\n",
      "2\n",
      "3\n",
      "5\n",
      "8\n",
      "13\n"
     ]
    }
   ],
   "source": [
    "def rec(n):\n",
    "    if n < 1:\n",
    "        return 0\n",
    "    elif n == 1 or n == 2:\n",
    "        return 1\n",
    "    else:\n",
    "        return (rec(n-1)+rec(n-2))\n",
    "    \n",
    "n = int(input(\"Enter number: \"))    \n",
    "for i in range(0, n):\n",
    "    print(rec(i))\n",
    "\n",
    "# 1, 1, 2, 3, 5, 8, 13, 21, 34, 55, 89, 144, 233, 377, 610, 987"
   ]
  },
  {
   "cell_type": "code",
   "execution_count": 223,
   "id": "ae5ed81d",
   "metadata": {},
   "outputs": [],
   "source": [
    "def wordCount(sentence):\n",
    "    return len(sentence.split())\n"
   ]
  },
  {
   "cell_type": "code",
   "execution_count": 224,
   "id": "7d1a28b9",
   "metadata": {},
   "outputs": [
    {
     "name": "stdout",
     "output_type": "stream",
     "text": [
      "['mangai', 'manoj', 'hithesh']\n"
     ]
    },
    {
     "data": {
      "text/plain": [
       "3"
      ]
     },
     "execution_count": 224,
     "metadata": {},
     "output_type": "execute_result"
    }
   ],
   "source": [
    "wordCount('mangai manoj   hithesh')"
   ]
  },
  {
   "cell_type": "code",
   "execution_count": 326,
   "id": "85a71462",
   "metadata": {},
   "outputs": [],
   "source": [
    "def regex(n):\n",
    "    import re\n",
    "    return len(re.findall('\\w+',n))"
   ]
  },
  {
   "cell_type": "code",
   "execution_count": 328,
   "id": "4a114518",
   "metadata": {},
   "outputs": [
    {
     "data": {
      "text/plain": [
       "4"
      ]
     },
     "execution_count": 328,
     "metadata": {},
     "output_type": "execute_result"
    }
   ],
   "source": [
    "regex('go come say by')"
   ]
  },
  {
   "cell_type": "code",
   "execution_count": 225,
   "id": "41ce7c56",
   "metadata": {},
   "outputs": [
    {
     "data": {
      "text/plain": [
       "5"
      ]
     },
     "execution_count": 225,
     "metadata": {},
     "output_type": "execute_result"
    }
   ],
   "source": [
    "def fib(n):\n",
    "    if n<0:\n",
    "        return \" \"\n",
    "    elif n==0:\n",
    "        return 0\n",
    "    elif n==1 or n==2:\n",
    "        return 1\n",
    "    else:\n",
    "        return fib(n-1)+fib(n-2)\n",
    "    \n",
    "fib(5)\n",
    "    "
   ]
  },
  {
   "cell_type": "code",
   "execution_count": 358,
   "id": "f4a43b1c",
   "metadata": {},
   "outputs": [
    {
     "name": "stdout",
     "output_type": "stream",
     "text": [
      "[70, 34, 10]\n"
     ]
    }
   ],
   "source": [
    "# list [10,34,44,55,99] expected output [99,55,44,33,10] highest ranking number=100\n",
    "\n",
    "def bubblesort1(l,h):\n",
    "    if len([*filter(lambda x: x > h, l)]) > 0:\n",
    "        return l\n",
    "    for i in range(len(l)):\n",
    "        for j in range(i+1,len(l)):\n",
    "            if l[j]>l[i]:\n",
    "                l[i],l[j]=l[j],l[i]\n",
    "    return l\n",
    "    \n",
    "l=[34,10,70]\n",
    "print(bubblesort1(l,100))"
   ]
  },
  {
   "cell_type": "code",
   "execution_count": 359,
   "id": "451a6729",
   "metadata": {},
   "outputs": [
    {
     "name": "stdout",
     "output_type": "stream",
     "text": [
      "[70, 34, 10]\n"
     ]
    }
   ],
   "source": [
    "sorted_list = []\n",
    "for i in l:\n",
    "    sorted_list = [j for j in sorted_list if i < j] + [i] + [ j for j in sorted_list if i >= j]\n",
    "print(sorted_list)\n",
    "    "
   ]
  },
  {
   "cell_type": "code",
   "execution_count": 314,
   "id": "df663461",
   "metadata": {},
   "outputs": [
    {
     "name": "stdout",
     "output_type": "stream",
     "text": [
      "0\n",
      "0\n",
      "1\n",
      "0\n",
      "2\n",
      "[34, 10, 7]\n"
     ]
    }
   ],
   "source": [
    "l=[34,10,7]\n",
    "n=len(l)\n",
    "for i in range(n):\n",
    "    print(i)\n",
    "    swapped=True\n",
    "    for j in range(n-i-1):\n",
    "        print(j)\n",
    "        if l[j]<l[j+1]:\n",
    "            l[j],l[j+1]=l[j+1],l[j]\n",
    "            print(l)\n",
    "            swapped=False\n",
    "        if swapped:\n",
    "            break\n",
    "print(l)"
   ]
  },
  {
   "cell_type": "code",
   "execution_count": null,
   "id": "3b32b91b",
   "metadata": {},
   "outputs": [],
   "source": []
  }
 ],
 "metadata": {
  "kernelspec": {
   "display_name": "Python 3 (ipykernel)",
   "language": "python",
   "name": "python3"
  },
  "language_info": {
   "codemirror_mode": {
    "name": "ipython",
    "version": 3
   },
   "file_extension": ".py",
   "mimetype": "text/x-python",
   "name": "python",
   "nbconvert_exporter": "python",
   "pygments_lexer": "ipython3",
   "version": "3.7.4"
  }
 },
 "nbformat": 4,
 "nbformat_minor": 5
}
